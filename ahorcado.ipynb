{
 "cells": [
  {
   "cell_type": "markdown",
   "metadata": {},
   "source": [
    "## AHORCADO \n"
   ]
  },
  {
   "cell_type": "code",
   "execution_count": 7,
   "metadata": {},
   "outputs": [
    {
     "name": "stdout",
     "output_type": "stream",
     "text": [
      "_ _ _ _\n",
      "h _ _ _\n",
      "h o _ _\n",
      "h o l _\n",
      "h o l a\n",
      "Adivinaste la palabra: hola , ganaste!\n"
     ]
    }
   ],
   "source": [
    "## Este codigo permite realizar el juego del ahorcado\n",
    "\n",
    "# Se debera introducir una palabra al azar\n",
    "palabra = input(\"Dime una palabra!\" )\n",
    "\n",
    "# Aqui se cuenta el numero de letras de la palabra y se crea un 'tablero' en blanco \n",
    "# para que el jugador pueda ir adivinando las letras\n",
    "conteo = 0\n",
    "for letras in palabra: \n",
    "    conteo += 1\n",
    "\n",
    "p_camuflada = [\"_\"] * conteo\n",
    "print(' '.join(map(str,p_camuflada)))\n",
    "\n",
    "# El jugador tendran 6 vidas\n",
    "numero_vidas = 6\n",
    "\n",
    "# Ahora, se le permite al jugador introducir una letra\n",
    "# si esta está en la palabra, se rellenaran todas las incidencias de esta letra en el tablero\n",
    "# sino, se le restara una vida, si se acaban las 6 vidas, \n",
    "while numero_vidas > 0:\n",
    "    if \"_\" in (p_camuflada):\n",
    "        letra_usuario = input(\"Dame una letra\")\n",
    "        try :\n",
    "            palabra.index(letra_usuario)\n",
    "        except ValueError as e: \n",
    "            numero_vidas -= 1\n",
    "            print(\"Perdiste una vida, te quedan\", numero_vidas, \"vidas\")\n",
    "        else: \n",
    "            for i in range(len(palabra)):\n",
    "                if letra_usuario == palabra[i] :\n",
    "                    p_camuflada[i] = letra_usuario\n",
    "            print(' '.join(map(str,p_camuflada)))\n",
    "    else:\n",
    "        print(\"Adivinaste la palabra:\", palabra, \", ganaste!\" )\n",
    "        break\n",
    "else: \n",
    "    print(\"Has perdido! Fin del juego\")"
   ]
  }
 ],
 "metadata": {
  "interpreter": {
   "hash": "aee8b7b246df8f9039afb4144a1f6fd8d2ca17a180786b69acc140d282b71a49"
  },
  "kernelspec": {
   "display_name": "Python 3.7.4 64-bit",
   "language": "python",
   "name": "python3"
  },
  "language_info": {
   "codemirror_mode": {
    "name": "ipython",
    "version": 3
   },
   "file_extension": ".py",
   "mimetype": "text/x-python",
   "name": "python",
   "nbconvert_exporter": "python",
   "pygments_lexer": "ipython3",
   "version": "3.7.4"
  },
  "orig_nbformat": 4
 },
 "nbformat": 4,
 "nbformat_minor": 2
}
